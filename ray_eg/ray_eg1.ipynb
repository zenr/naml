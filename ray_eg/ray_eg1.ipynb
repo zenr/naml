{
 "cells": [
  {
   "cell_type": "code",
   "execution_count": 10,
   "metadata": {},
   "outputs": [],
   "source": [
    "import numpy as np\n",
    "import torch\n",
    "import torch.optim as optim\n",
    "from torchvision import datasets\n",
    "\n",
    "from ray import tune\n",
    "from ray.tune import track\n",
    "from ray.tune.schedulers import ASHAScheduler\n",
    "from ray.tune.examples.mnist_pytorch import get_data_loaders, ConvNet, train, test"
   ]
  },
  {
   "cell_type": "code",
   "execution_count": 17,
   "metadata": {},
   "outputs": [],
   "source": [
    "def train_mnist(config):\n",
    "    train_loader, test_loader = get_data_loaders()\n",
    "    print(train_loader)\n",
    "    model = ConvNet()\n",
    "    print(model.parameters(), model)\n",
    "    optimizer = optim.SGD(model.parameters(), lr=config[\"lr\"])\n",
    "    for i in range(10):\n",
    "        train(model, optimizer, train_loader)\n",
    "        acc = test(model, test_loader)\n",
    "        tune.track.log(mean_accuracy=acc)\n"
   ]
  },
  {
   "cell_type": "code",
   "execution_count": null,
   "metadata": {},
   "outputs": [],
   "source": []
  },
  {
   "cell_type": "code",
   "execution_count": 19,
   "metadata": {
    "scrolled": false
   },
   "outputs": [
    {
     "data": {
      "text/html": [
       "== Status ==<br>Memory usage on this node: 9.1/16.0 GiB<br>Using FIFO scheduling algorithm.<br>Resources requested: 1/4 CPUs, 0/0 GPUs, 0.0/4.39 GiB heap, 0.0/1.51 GiB objects<br>Result logdir: /Users/chityala/ray_results/train_mnist<br>Number of trials: 6 (5 PENDING, 1 RUNNING)<br><table>\n",
       "<thead>\n",
       "<tr><th>Trial name       </th><th>status  </th><th>loc  </th><th>kernel_size  </th><th style=\"text-align: right;\">  lr</th></tr>\n",
       "</thead>\n",
       "<tbody>\n",
       "<tr><td>train_mnist_00000</td><td>RUNNING </td><td>     </td><td>(3, 3)       </td><td style=\"text-align: right;\">0.01</td></tr>\n",
       "<tr><td>train_mnist_00001</td><td>PENDING </td><td>     </td><td>(5, 5)       </td><td style=\"text-align: right;\">0.01</td></tr>\n",
       "<tr><td>train_mnist_00002</td><td>PENDING </td><td>     </td><td>(3, 3)       </td><td style=\"text-align: right;\">0.1 </td></tr>\n",
       "<tr><td>train_mnist_00003</td><td>PENDING </td><td>     </td><td>(5, 5)       </td><td style=\"text-align: right;\">0.1 </td></tr>\n",
       "<tr><td>train_mnist_00004</td><td>PENDING </td><td>     </td><td>(3, 3)       </td><td style=\"text-align: right;\">0.3 </td></tr>\n",
       "<tr><td>train_mnist_00005</td><td>PENDING </td><td>     </td><td>(5, 5)       </td><td style=\"text-align: right;\">0.3 </td></tr>\n",
       "</tbody>\n",
       "</table><br><br>"
      ],
      "text/plain": [
       "<IPython.core.display.HTML object>"
      ]
     },
     "metadata": {},
     "output_type": "display_data"
    },
    {
     "name": "stdout",
     "output_type": "stream",
     "text": [
      "\u001b[2m\u001b[36m(pid=19257)\u001b[0m 2020-06-22 17:18:34,792\tINFO trainable.py:217 -- Getting current IP.\n",
      "\u001b[2m\u001b[36m(pid=19257)\u001b[0m <torch.utils.data.dataloader.DataLoader object at 0x7f993c442390>\n",
      "\u001b[2m\u001b[36m(pid=19257)\u001b[0m <generator object Module.parameters at 0x7f993c4325c8> ConvNet(\n",
      "\u001b[2m\u001b[36m(pid=19257)\u001b[0m   (conv1): Conv2d(1, 3, kernel_size=(3, 3), stride=(1, 1))\n",
      "\u001b[2m\u001b[36m(pid=19257)\u001b[0m   (fc): Linear(in_features=192, out_features=10, bias=True)\n",
      "\u001b[2m\u001b[36m(pid=19257)\u001b[0m )\n",
      "Result for train_mnist_00000:\n",
      "  date: 2020-06-22_17-18-35\n",
      "  done: false\n",
      "  experiment_id: 283fd6f7a5fc460a90983af4e80292e0\n",
      "  experiment_tag: 0_kernel_size=(3, 3),lr=0.01\n",
      "  hostname: Ravis-MacBook-Pro.local\n",
      "  iterations_since_restore: 1\n",
      "  mean_accuracy: 0.096875\n",
      "  node_ip: 10.9.12.130\n",
      "  pid: 19257\n",
      "  time_since_restore: 0.5220098495483398\n",
      "  time_this_iter_s: 0.5220098495483398\n",
      "  time_total_s: 0.5220098495483398\n",
      "  timestamp: 1592871515\n",
      "  timesteps_since_restore: 0\n",
      "  training_iteration: 0\n",
      "  trial_id: '00000'\n",
      "  \n"
     ]
    },
    {
     "data": {
      "text/html": [
       "== Status ==<br>Memory usage on this node: 9.4/16.0 GiB<br>Using FIFO scheduling algorithm.<br>Resources requested: 4/4 CPUs, 0/0 GPUs, 0.0/4.39 GiB heap, 0.0/1.51 GiB objects<br>Result logdir: /Users/chityala/ray_results/train_mnist<br>Number of trials: 6 (2 PENDING, 4 RUNNING)<br><table>\n",
       "<thead>\n",
       "<tr><th>Trial name       </th><th>status  </th><th>loc              </th><th>kernel_size  </th><th style=\"text-align: right;\">  lr</th><th style=\"text-align: right;\">     acc</th><th style=\"text-align: right;\">  total time (s)</th><th style=\"text-align: right;\">  iter</th></tr>\n",
       "</thead>\n",
       "<tbody>\n",
       "<tr><td>train_mnist_00000</td><td>RUNNING </td><td>10.9.12.130:19257</td><td>(3, 3)       </td><td style=\"text-align: right;\">0.01</td><td style=\"text-align: right;\">0.096875</td><td style=\"text-align: right;\">         0.52201</td><td style=\"text-align: right;\">     0</td></tr>\n",
       "<tr><td>train_mnist_00001</td><td>RUNNING </td><td>                 </td><td>(5, 5)       </td><td style=\"text-align: right;\">0.01</td><td style=\"text-align: right;\">        </td><td style=\"text-align: right;\">                </td><td style=\"text-align: right;\">      </td></tr>\n",
       "<tr><td>train_mnist_00002</td><td>RUNNING </td><td>                 </td><td>(3, 3)       </td><td style=\"text-align: right;\">0.1 </td><td style=\"text-align: right;\">        </td><td style=\"text-align: right;\">                </td><td style=\"text-align: right;\">      </td></tr>\n",
       "<tr><td>train_mnist_00003</td><td>RUNNING </td><td>                 </td><td>(5, 5)       </td><td style=\"text-align: right;\">0.1 </td><td style=\"text-align: right;\">        </td><td style=\"text-align: right;\">                </td><td style=\"text-align: right;\">      </td></tr>\n",
       "<tr><td>train_mnist_00004</td><td>PENDING </td><td>                 </td><td>(3, 3)       </td><td style=\"text-align: right;\">0.3 </td><td style=\"text-align: right;\">        </td><td style=\"text-align: right;\">                </td><td style=\"text-align: right;\">      </td></tr>\n",
       "<tr><td>train_mnist_00005</td><td>PENDING </td><td>                 </td><td>(5, 5)       </td><td style=\"text-align: right;\">0.3 </td><td style=\"text-align: right;\">        </td><td style=\"text-align: right;\">                </td><td style=\"text-align: right;\">      </td></tr>\n",
       "</tbody>\n",
       "</table><br><br>"
      ],
      "text/plain": [
       "<IPython.core.display.HTML object>"
      ]
     },
     "metadata": {},
     "output_type": "display_data"
    },
    {
     "name": "stdout",
     "output_type": "stream",
     "text": [
      "\u001b[2m\u001b[36m(pid=19258)\u001b[0m 2020-06-22 17:18:35,868\tINFO trainable.py:217 -- Getting current IP.\n",
      "\u001b[2m\u001b[36m(pid=19260)\u001b[0m 2020-06-22 17:18:36,068\tINFO trainable.py:217 -- Getting current IP.\n",
      "\u001b[2m\u001b[36m(pid=19258)\u001b[0m <torch.utils.data.dataloader.DataLoader object at 0x7ffd0ec3f240>\n",
      "\u001b[2m\u001b[36m(pid=19258)\u001b[0m <generator object Module.parameters at 0x7ffd0ec305c8> ConvNet(\n",
      "\u001b[2m\u001b[36m(pid=19258)\u001b[0m   (conv1): Conv2d(1, 3, kernel_size=(3, 3), stride=(1, 1))\n",
      "\u001b[2m\u001b[36m(pid=19258)\u001b[0m   (fc): Linear(in_features=192, out_features=10, bias=True)\n",
      "\u001b[2m\u001b[36m(pid=19258)\u001b[0m )\n",
      "\u001b[2m\u001b[36m(pid=19264)\u001b[0m 2020-06-22 17:18:36,343\tINFO trainable.py:217 -- Getting current IP.\n",
      "\u001b[2m\u001b[36m(pid=19260)\u001b[0m <torch.utils.data.dataloader.DataLoader object at 0x7f82a8442400>\n",
      "\u001b[2m\u001b[36m(pid=19260)\u001b[0m <generator object Module.parameters at 0x7f82a84325c8> ConvNet(\n",
      "\u001b[2m\u001b[36m(pid=19260)\u001b[0m   (conv1): Conv2d(1, 3, kernel_size=(3, 3), stride=(1, 1))\n",
      "\u001b[2m\u001b[36m(pid=19260)\u001b[0m   (fc): Linear(in_features=192, out_features=10, bias=True)\n",
      "\u001b[2m\u001b[36m(pid=19260)\u001b[0m )\n",
      "Result for train_mnist_00001:\n",
      "  date: 2020-06-22_17-18-36\n",
      "  done: false\n",
      "  experiment_id: 2f61430d42674bb6a495e44ee048ad40\n",
      "  experiment_tag: 1_kernel_size=(5, 5),lr=0.01\n",
      "  hostname: Ravis-MacBook-Pro.local\n",
      "  iterations_since_restore: 1\n",
      "  mean_accuracy: 0.08125\n",
      "  node_ip: 10.9.12.130\n",
      "  pid: 19258\n",
      "  time_since_restore: 0.5097100734710693\n",
      "  time_this_iter_s: 0.5097100734710693\n",
      "  time_total_s: 0.5097100734710693\n",
      "  timestamp: 1592871516\n",
      "  timesteps_since_restore: 0\n",
      "  training_iteration: 0\n",
      "  trial_id: '00001'\n",
      "  \n",
      "\u001b[2m\u001b[36m(pid=19264)\u001b[0m <torch.utils.data.dataloader.DataLoader object at 0x7fa798b40278>\n",
      "\u001b[2m\u001b[36m(pid=19264)\u001b[0m <generator object Module.parameters at 0x7fa798b315c8> ConvNet(\n",
      "\u001b[2m\u001b[36m(pid=19264)\u001b[0m   (conv1): Conv2d(1, 3, kernel_size=(3, 3), stride=(1, 1))\n",
      "\u001b[2m\u001b[36m(pid=19264)\u001b[0m   (fc): Linear(in_features=192, out_features=10, bias=True)\n",
      "\u001b[2m\u001b[36m(pid=19264)\u001b[0m )\n",
      "Result for train_mnist_00003:\n",
      "  date: 2020-06-22_17-18-37\n",
      "  done: false\n",
      "  experiment_id: 9cc7efedc5ff4db98b04196780d2f32c\n",
      "  experiment_tag: 3_kernel_size=(5, 5),lr=0.1\n",
      "  hostname: Ravis-MacBook-Pro.local\n",
      "  iterations_since_restore: 1\n",
      "  mean_accuracy: 0.628125\n",
      "  node_ip: 10.9.12.130\n",
      "  pid: 19264\n",
      "  time_since_restore: 0.4529900550842285\n",
      "  time_this_iter_s: 0.4529900550842285\n",
      "  time_total_s: 0.4529900550842285\n",
      "  timestamp: 1592871517\n",
      "  timesteps_since_restore: 0\n",
      "  training_iteration: 0\n",
      "  trial_id: '00003'\n",
      "  \n",
      "Result for train_mnist_00002:\n",
      "  date: 2020-06-22_17-18-36\n",
      "  done: false\n",
      "  experiment_id: 8e52dedfed2f4b968bc0eb4c51d7e934\n",
      "  experiment_tag: 2_kernel_size=(3, 3),lr=0.1\n",
      "  hostname: Ravis-MacBook-Pro.local\n",
      "  iterations_since_restore: 1\n",
      "  mean_accuracy: 0.5\n",
      "  node_ip: 10.9.12.130\n",
      "  pid: 19260\n",
      "  time_since_restore: 0.578577995300293\n",
      "  time_this_iter_s: 0.578577995300293\n",
      "  time_total_s: 0.578577995300293\n",
      "  timestamp: 1592871516\n",
      "  timesteps_since_restore: 0\n",
      "  training_iteration: 0\n",
      "  trial_id: '00002'\n",
      "  \n"
     ]
    },
    {
     "data": {
      "text/html": [
       "== Status ==<br>Memory usage on this node: 9.4/16.0 GiB<br>Using FIFO scheduling algorithm.<br>Resources requested: 4/4 CPUs, 0/0 GPUs, 0.0/4.39 GiB heap, 0.0/1.51 GiB objects<br>Result logdir: /Users/chityala/ray_results/train_mnist<br>Number of trials: 6 (2 PENDING, 4 RUNNING)<br><table>\n",
       "<thead>\n",
       "<tr><th>Trial name       </th><th>status  </th><th>loc              </th><th>kernel_size  </th><th style=\"text-align: right;\">  lr</th><th style=\"text-align: right;\">     acc</th><th style=\"text-align: right;\">  total time (s)</th><th style=\"text-align: right;\">  iter</th></tr>\n",
       "</thead>\n",
       "<tbody>\n",
       "<tr><td>train_mnist_00000</td><td>RUNNING </td><td>10.9.12.130:19257</td><td>(3, 3)       </td><td style=\"text-align: right;\">0.01</td><td style=\"text-align: right;\">0.44375 </td><td style=\"text-align: right;\">         4.00553</td><td style=\"text-align: right;\">     4</td></tr>\n",
       "<tr><td>train_mnist_00001</td><td>RUNNING </td><td>10.9.12.130:19258</td><td>(5, 5)       </td><td style=\"text-align: right;\">0.01</td><td style=\"text-align: right;\">0.28125 </td><td style=\"text-align: right;\">         3.92747</td><td style=\"text-align: right;\">     6</td></tr>\n",
       "<tr><td>train_mnist_00002</td><td>RUNNING </td><td>10.9.12.130:19260</td><td>(3, 3)       </td><td style=\"text-align: right;\">0.1 </td><td style=\"text-align: right;\">0.86875 </td><td style=\"text-align: right;\">         4.32102</td><td style=\"text-align: right;\">     4</td></tr>\n",
       "<tr><td>train_mnist_00003</td><td>RUNNING </td><td>10.9.12.130:19264</td><td>(5, 5)       </td><td style=\"text-align: right;\">0.1 </td><td style=\"text-align: right;\">0.740625</td><td style=\"text-align: right;\">         1.95942</td><td style=\"text-align: right;\">     3</td></tr>\n",
       "<tr><td>train_mnist_00004</td><td>PENDING </td><td>                 </td><td>(3, 3)       </td><td style=\"text-align: right;\">0.3 </td><td style=\"text-align: right;\">        </td><td style=\"text-align: right;\">                </td><td style=\"text-align: right;\">      </td></tr>\n",
       "<tr><td>train_mnist_00005</td><td>PENDING </td><td>                 </td><td>(5, 5)       </td><td style=\"text-align: right;\">0.3 </td><td style=\"text-align: right;\">        </td><td style=\"text-align: right;\">                </td><td style=\"text-align: right;\">      </td></tr>\n",
       "</tbody>\n",
       "</table><br><br>"
      ],
      "text/plain": [
       "<IPython.core.display.HTML object>"
      ]
     },
     "metadata": {},
     "output_type": "display_data"
    },
    {
     "name": "stdout",
     "output_type": "stream",
     "text": [
      "Result for train_mnist_00000:\n",
      "  date: 2020-06-22_17-18-40\n",
      "  done: false\n",
      "  experiment_id: 283fd6f7a5fc460a90983af4e80292e0\n",
      "  experiment_tag: 0_kernel_size=(3, 3),lr=0.01\n",
      "  hostname: Ravis-MacBook-Pro.local\n",
      "  iterations_since_restore: 6\n",
      "  mean_accuracy: 0.565625\n",
      "  node_ip: 10.9.12.130\n",
      "  pid: 19257\n",
      "  time_since_restore: 5.123963832855225\n",
      "  time_this_iter_s: 1.1184308528900146\n",
      "  time_total_s: 5.123963832855225\n",
      "  timestamp: 1592871520\n",
      "  timesteps_since_restore: 0\n",
      "  training_iteration: 5\n",
      "  trial_id: '00000'\n",
      "  \n",
      "Result for train_mnist_00001:\n",
      "  date: 2020-06-22_17-18-40\n",
      "  done: false\n",
      "  experiment_id: 2f61430d42674bb6a495e44ee048ad40\n",
      "  experiment_tag: 1_kernel_size=(5, 5),lr=0.01\n",
      "  hostname: Ravis-MacBook-Pro.local\n",
      "  iterations_since_restore: 8\n",
      "  mean_accuracy: 0.29375\n",
      "  node_ip: 10.9.12.130\n",
      "  pid: 19258\n",
      "  time_since_restore: 4.3568761348724365\n",
      "  time_this_iter_s: 0.42940521240234375\n",
      "  time_total_s: 4.3568761348724365\n",
      "  timestamp: 1592871520\n",
      "  timesteps_since_restore: 0\n",
      "  training_iteration: 7\n",
      "  trial_id: '00001'\n",
      "  \n",
      "Result for train_mnist_00003:\n",
      "  date: 2020-06-22_17-18-42\n",
      "  done: false\n",
      "  experiment_id: 9cc7efedc5ff4db98b04196780d2f32c\n",
      "  experiment_tag: 3_kernel_size=(5, 5),lr=0.1\n",
      "  hostname: Ravis-MacBook-Pro.local\n",
      "  iterations_since_restore: 7\n",
      "  mean_accuracy: 0.778125\n",
      "  node_ip: 10.9.12.130\n",
      "  pid: 19264\n",
      "  time_since_restore: 5.608649969100952\n",
      "  time_this_iter_s: 0.6146719455718994\n",
      "  time_total_s: 5.608649969100952\n",
      "  timestamp: 1592871522\n",
      "  timesteps_since_restore: 0\n",
      "  training_iteration: 6\n",
      "  trial_id: '00003'\n",
      "  \n"
     ]
    },
    {
     "name": "stderr",
     "output_type": "stream",
     "text": [
      "2020-06-22 17:18:42,838\tINFO logger.py:271 -- Removed the following hyperparameter values when logging to tensorboard: {'kernel_size': (5, 5)}\n"
     ]
    },
    {
     "name": "stdout",
     "output_type": "stream",
     "text": [
      "Result for train_mnist_00002:\n",
      "  date: 2020-06-22_17-18-41\n",
      "  done: false\n",
      "  experiment_id: 8e52dedfed2f4b968bc0eb4c51d7e934\n",
      "  experiment_tag: 2_kernel_size=(3, 3),lr=0.1\n",
      "  hostname: Ravis-MacBook-Pro.local\n",
      "  iterations_since_restore: 6\n",
      "  mean_accuracy: 0.784375\n",
      "  node_ip: 10.9.12.130\n",
      "  pid: 19260\n",
      "  time_since_restore: 4.871011972427368\n",
      "  time_this_iter_s: 0.5499899387359619\n",
      "  time_total_s: 4.871011972427368\n",
      "  timestamp: 1592871521\n",
      "  timesteps_since_restore: 0\n",
      "  training_iteration: 5\n",
      "  trial_id: '00002'\n",
      "  \n"
     ]
    },
    {
     "name": "stderr",
     "output_type": "stream",
     "text": [
      "2020-06-22 17:18:45,371\tINFO logger.py:271 -- Removed the following hyperparameter values when logging to tensorboard: {'kernel_size': (5, 5)}\n"
     ]
    },
    {
     "name": "stdout",
     "output_type": "stream",
     "text": [
      "\u001b[2m\u001b[36m(pid=19269)\u001b[0m 2020-06-22 17:18:45,835\tINFO trainable.py:217 -- Getting current IP.\n"
     ]
    },
    {
     "data": {
      "text/html": [
       "== Status ==<br>Memory usage on this node: 9.3/16.0 GiB<br>Using FIFO scheduling algorithm.<br>Resources requested: 4/4 CPUs, 0/0 GPUs, 0.0/4.39 GiB heap, 0.0/1.51 GiB objects<br>Result logdir: /Users/chityala/ray_results/train_mnist<br>Number of trials: 6 (4 RUNNING, 2 TERMINATED)<br><table>\n",
       "<thead>\n",
       "<tr><th>Trial name       </th><th>status    </th><th>loc              </th><th>kernel_size  </th><th style=\"text-align: right;\">  lr</th><th style=\"text-align: right;\">     acc</th><th style=\"text-align: right;\">  total time (s)</th><th style=\"text-align: right;\">  iter</th></tr>\n",
       "</thead>\n",
       "<tbody>\n",
       "<tr><td>train_mnist_00000</td><td>RUNNING   </td><td>10.9.12.130:19257</td><td>(3, 3)       </td><td style=\"text-align: right;\">0.01</td><td style=\"text-align: right;\">0.65625 </td><td style=\"text-align: right;\">         6.76496</td><td style=\"text-align: right;\">     7</td></tr>\n",
       "<tr><td>train_mnist_00001</td><td>TERMINATED</td><td>                 </td><td>(5, 5)       </td><td style=\"text-align: right;\">0.01</td><td style=\"text-align: right;\">0.415625</td><td style=\"text-align: right;\">         6.35257</td><td style=\"text-align: right;\">     9</td></tr>\n",
       "<tr><td>train_mnist_00002</td><td>RUNNING   </td><td>10.9.12.130:19260</td><td>(3, 3)       </td><td style=\"text-align: right;\">0.1 </td><td style=\"text-align: right;\">0.884375</td><td style=\"text-align: right;\">         9.29618</td><td style=\"text-align: right;\">     9</td></tr>\n",
       "<tr><td>train_mnist_00003</td><td>TERMINATED</td><td>                 </td><td>(5, 5)       </td><td style=\"text-align: right;\">0.1 </td><td style=\"text-align: right;\">0.878125</td><td style=\"text-align: right;\">         8.28695</td><td style=\"text-align: right;\">     9</td></tr>\n",
       "<tr><td>train_mnist_00004</td><td>RUNNING   </td><td>                 </td><td>(3, 3)       </td><td style=\"text-align: right;\">0.3 </td><td style=\"text-align: right;\">        </td><td style=\"text-align: right;\">                </td><td style=\"text-align: right;\">      </td></tr>\n",
       "<tr><td>train_mnist_00005</td><td>RUNNING   </td><td>                 </td><td>(5, 5)       </td><td style=\"text-align: right;\">0.3 </td><td style=\"text-align: right;\">        </td><td style=\"text-align: right;\">                </td><td style=\"text-align: right;\">      </td></tr>\n",
       "</tbody>\n",
       "</table><br><br>"
      ],
      "text/plain": [
       "<IPython.core.display.HTML object>"
      ]
     },
     "metadata": {},
     "output_type": "display_data"
    },
    {
     "name": "stderr",
     "output_type": "stream",
     "text": [
      "2020-06-22 17:18:46,294\tINFO logger.py:271 -- Removed the following hyperparameter values when logging to tensorboard: {'kernel_size': (3, 3)}\n"
     ]
    },
    {
     "name": "stdout",
     "output_type": "stream",
     "text": [
      "\u001b[2m\u001b[36m(pid=19269)\u001b[0m <torch.utils.data.dataloader.DataLoader object at 0x7ffab6c432b0>\n",
      "\u001b[2m\u001b[36m(pid=19269)\u001b[0m <generator object Module.parameters at 0x7ffab6c335c8> ConvNet(\n",
      "\u001b[2m\u001b[36m(pid=19269)\u001b[0m   (conv1): Conv2d(1, 3, kernel_size=(3, 3), stride=(1, 1))\n",
      "\u001b[2m\u001b[36m(pid=19269)\u001b[0m   (fc): Linear(in_features=192, out_features=10, bias=True)\n",
      "\u001b[2m\u001b[36m(pid=19269)\u001b[0m )\n",
      "\u001b[2m\u001b[33m(pid=raylet)\u001b[0m E0622 17:18:46.377467 95387072 node_manager.cc:3537] Failed to send get core worker stats request: IOError: 14: Socket closed\n",
      "Result for train_mnist_00000:\n",
      "  date: 2020-06-22_17-18-45\n",
      "  done: false\n",
      "  experiment_id: 283fd6f7a5fc460a90983af4e80292e0\n",
      "  experiment_tag: 0_kernel_size=(3, 3),lr=0.01\n",
      "  hostname: Ravis-MacBook-Pro.local\n",
      "  iterations_since_restore: 9\n",
      "  mean_accuracy: 0.7\n",
      "  node_ip: 10.9.12.130\n",
      "  pid: 19257\n",
      "  time_since_restore: 10.060168981552124\n",
      "  time_this_iter_s: 3.295210123062134\n",
      "  time_total_s: 10.060168981552124\n",
      "  timestamp: 1592871525\n",
      "  timesteps_since_restore: 0\n",
      "  training_iteration: 8\n",
      "  trial_id: '00000'\n",
      "  \n",
      "Result for train_mnist_00004:\n",
      "  date: 2020-06-22_17-18-46\n",
      "  done: false\n",
      "  experiment_id: 20e739516baf48e894777fb748b00254\n",
      "  experiment_tag: 4_kernel_size=(3, 3),lr=0.3\n",
      "  hostname: Ravis-MacBook-Pro.local\n",
      "  iterations_since_restore: 1\n",
      "  mean_accuracy: 0.528125\n",
      "  node_ip: 10.9.12.130\n",
      "  pid: 19269\n",
      "  time_since_restore: 0.5042610168457031\n",
      "  time_this_iter_s: 0.5042610168457031\n",
      "  time_total_s: 0.5042610168457031\n",
      "  timestamp: 1592871526\n",
      "  timesteps_since_restore: 0\n",
      "  training_iteration: 0\n",
      "  trial_id: '00004'\n",
      "  \n"
     ]
    },
    {
     "name": "stderr",
     "output_type": "stream",
     "text": [
      "2020-06-22 17:18:47,292\tINFO logger.py:271 -- Removed the following hyperparameter values when logging to tensorboard: {'kernel_size': (3, 3)}\n"
     ]
    },
    {
     "name": "stdout",
     "output_type": "stream",
     "text": [
      "\u001b[2m\u001b[36m(pid=19266)\u001b[0m 2020-06-22 17:18:47,908\tINFO trainable.py:217 -- Getting current IP.\n",
      "\u001b[2m\u001b[36m(pid=19266)\u001b[0m <torch.utils.data.dataloader.DataLoader object at 0x7fd49ac41470>\n",
      "\u001b[2m\u001b[36m(pid=19266)\u001b[0m <generator object Module.parameters at 0x7fd49ac325c8> ConvNet(\n",
      "\u001b[2m\u001b[36m(pid=19266)\u001b[0m   (conv1): Conv2d(1, 3, kernel_size=(3, 3), stride=(1, 1))\n",
      "\u001b[2m\u001b[36m(pid=19266)\u001b[0m   (fc): Linear(in_features=192, out_features=10, bias=True)\n",
      "\u001b[2m\u001b[36m(pid=19266)\u001b[0m )\n",
      "Result for train_mnist_00005:\n",
      "  date: 2020-06-22_17-18-48\n",
      "  done: false\n",
      "  experiment_id: 7f581634ba0349e59559c953074fd3dd\n",
      "  experiment_tag: 5_kernel_size=(5, 5),lr=0.3\n",
      "  hostname: Ravis-MacBook-Pro.local\n",
      "  iterations_since_restore: 1\n",
      "  mean_accuracy: 0.646875\n",
      "  node_ip: 10.9.12.130\n",
      "  pid: 19266\n",
      "  time_since_restore: 0.3607819080352783\n",
      "  time_this_iter_s: 0.3607819080352783\n",
      "  time_total_s: 0.3607819080352783\n",
      "  timestamp: 1592871528\n",
      "  timesteps_since_restore: 0\n",
      "  training_iteration: 0\n",
      "  trial_id: '00005'\n",
      "  \n"
     ]
    },
    {
     "name": "stderr",
     "output_type": "stream",
     "text": [
      "2020-06-22 17:18:51,085\tINFO logger.py:271 -- Removed the following hyperparameter values when logging to tensorboard: {'kernel_size': (3, 3)}\n"
     ]
    },
    {
     "data": {
      "text/html": [
       "== Status ==<br>Memory usage on this node: 9.2/16.0 GiB<br>Using FIFO scheduling algorithm.<br>Resources requested: 1/4 CPUs, 0/0 GPUs, 0.0/4.39 GiB heap, 0.0/1.51 GiB objects<br>Result logdir: /Users/chityala/ray_results/train_mnist<br>Number of trials: 6 (1 RUNNING, 5 TERMINATED)<br><table>\n",
       "<thead>\n",
       "<tr><th>Trial name       </th><th>status    </th><th>loc              </th><th>kernel_size  </th><th style=\"text-align: right;\">  lr</th><th style=\"text-align: right;\">     acc</th><th style=\"text-align: right;\">  total time (s)</th><th style=\"text-align: right;\">  iter</th></tr>\n",
       "</thead>\n",
       "<tbody>\n",
       "<tr><td>train_mnist_00000</td><td>TERMINATED</td><td>                 </td><td>(3, 3)       </td><td style=\"text-align: right;\">0.01</td><td style=\"text-align: right;\">0.7375  </td><td style=\"text-align: right;\">        11.8712 </td><td style=\"text-align: right;\">     9</td></tr>\n",
       "<tr><td>train_mnist_00001</td><td>TERMINATED</td><td>                 </td><td>(5, 5)       </td><td style=\"text-align: right;\">0.01</td><td style=\"text-align: right;\">0.415625</td><td style=\"text-align: right;\">         6.35257</td><td style=\"text-align: right;\">     9</td></tr>\n",
       "<tr><td>train_mnist_00002</td><td>TERMINATED</td><td>                 </td><td>(3, 3)       </td><td style=\"text-align: right;\">0.1 </td><td style=\"text-align: right;\">0.884375</td><td style=\"text-align: right;\">         9.29618</td><td style=\"text-align: right;\">     9</td></tr>\n",
       "<tr><td>train_mnist_00003</td><td>TERMINATED</td><td>                 </td><td>(5, 5)       </td><td style=\"text-align: right;\">0.1 </td><td style=\"text-align: right;\">0.878125</td><td style=\"text-align: right;\">         8.28695</td><td style=\"text-align: right;\">     9</td></tr>\n",
       "<tr><td>train_mnist_00004</td><td>TERMINATED</td><td>                 </td><td>(3, 3)       </td><td style=\"text-align: right;\">0.3 </td><td style=\"text-align: right;\">0.934375</td><td style=\"text-align: right;\">         4.60133</td><td style=\"text-align: right;\">     9</td></tr>\n",
       "<tr><td>train_mnist_00005</td><td>RUNNING   </td><td>10.9.12.130:19266</td><td>(5, 5)       </td><td style=\"text-align: right;\">0.3 </td><td style=\"text-align: right;\">0.8625  </td><td style=\"text-align: right;\">         2.34869</td><td style=\"text-align: right;\">     5</td></tr>\n",
       "</tbody>\n",
       "</table><br><br>"
      ],
      "text/plain": [
       "<IPython.core.display.HTML object>"
      ]
     },
     "metadata": {},
     "output_type": "display_data"
    },
    {
     "name": "stderr",
     "output_type": "stream",
     "text": [
      "2020-06-22 17:18:52,951\tINFO logger.py:271 -- Removed the following hyperparameter values when logging to tensorboard: {'kernel_size': (5, 5)}\n"
     ]
    },
    {
     "data": {
      "text/html": [
       "== Status ==<br>Memory usage on this node: 9.2/16.0 GiB<br>Using FIFO scheduling algorithm.<br>Resources requested: 0/4 CPUs, 0/0 GPUs, 0.0/4.39 GiB heap, 0.0/1.51 GiB objects<br>Result logdir: /Users/chityala/ray_results/train_mnist<br>Number of trials: 6 (6 TERMINATED)<br><table>\n",
       "<thead>\n",
       "<tr><th>Trial name       </th><th>status    </th><th>loc  </th><th>kernel_size  </th><th style=\"text-align: right;\">  lr</th><th style=\"text-align: right;\">     acc</th><th style=\"text-align: right;\">  total time (s)</th><th style=\"text-align: right;\">  iter</th></tr>\n",
       "</thead>\n",
       "<tbody>\n",
       "<tr><td>train_mnist_00000</td><td>TERMINATED</td><td>     </td><td>(3, 3)       </td><td style=\"text-align: right;\">0.01</td><td style=\"text-align: right;\">0.7375  </td><td style=\"text-align: right;\">        11.8712 </td><td style=\"text-align: right;\">     9</td></tr>\n",
       "<tr><td>train_mnist_00001</td><td>TERMINATED</td><td>     </td><td>(5, 5)       </td><td style=\"text-align: right;\">0.01</td><td style=\"text-align: right;\">0.415625</td><td style=\"text-align: right;\">         6.35257</td><td style=\"text-align: right;\">     9</td></tr>\n",
       "<tr><td>train_mnist_00002</td><td>TERMINATED</td><td>     </td><td>(3, 3)       </td><td style=\"text-align: right;\">0.1 </td><td style=\"text-align: right;\">0.884375</td><td style=\"text-align: right;\">         9.29618</td><td style=\"text-align: right;\">     9</td></tr>\n",
       "<tr><td>train_mnist_00003</td><td>TERMINATED</td><td>     </td><td>(5, 5)       </td><td style=\"text-align: right;\">0.1 </td><td style=\"text-align: right;\">0.878125</td><td style=\"text-align: right;\">         8.28695</td><td style=\"text-align: right;\">     9</td></tr>\n",
       "<tr><td>train_mnist_00004</td><td>TERMINATED</td><td>     </td><td>(3, 3)       </td><td style=\"text-align: right;\">0.3 </td><td style=\"text-align: right;\">0.934375</td><td style=\"text-align: right;\">         4.60133</td><td style=\"text-align: right;\">     9</td></tr>\n",
       "<tr><td>train_mnist_00005</td><td>TERMINATED</td><td>     </td><td>(5, 5)       </td><td style=\"text-align: right;\">0.3 </td><td style=\"text-align: right;\">0.915625</td><td style=\"text-align: right;\">         4.50016</td><td style=\"text-align: right;\">     9</td></tr>\n",
       "</tbody>\n",
       "</table><br><br>"
      ],
      "text/plain": [
       "<IPython.core.display.HTML object>"
      ]
     },
     "metadata": {},
     "output_type": "display_data"
    },
    {
     "name": "stdout",
     "output_type": "stream",
     "text": [
      "Best config:  {'lr': 0.1, 'kernel_size': (5, 5)}\n"
     ]
    }
   ],
   "source": [
    "analysis = tune.run(\n",
    "    train_mnist, config={\"lr\": tune.grid_search([0.01, 0.1, 0.3]),\n",
    "                        \"kernel_size\": tune.grid_search([(3, 3), (5, 5)])})\n",
    "\n",
    "print(\"Best config: \", analysis.get_best_config(metric=\"mean_accuracy\"))\n",
    "\n",
    "# Get a dataframe for analyzing trial results.\n",
    "df = analysis.dataframe()"
   ]
  },
  {
   "cell_type": "code",
   "execution_count": 16,
   "metadata": {},
   "outputs": [
    {
     "data": {
      "text/plain": [
       "[<matplotlib.axes._subplots.AxesSubplot at 0x7fe8fc1e97b8>,\n",
       " <matplotlib.axes._subplots.AxesSubplot at 0x7fe8fc1e97b8>,\n",
       " <matplotlib.axes._subplots.AxesSubplot at 0x7fe8fc1e97b8>]"
      ]
     },
     "execution_count": 16,
     "metadata": {},
     "output_type": "execute_result"
    }
   ],
   "source": [
    "dfs = analysis.trial_dataframes\n",
    "[d.mean_accuracy.plot() for d in dfs.values()]"
   ]
  },
  {
   "cell_type": "code",
   "execution_count": null,
   "metadata": {},
   "outputs": [],
   "source": []
  }
 ],
 "metadata": {
  "kernelspec": {
   "display_name": "Python 3",
   "language": "python",
   "name": "python3"
  },
  "language_info": {
   "codemirror_mode": {
    "name": "ipython",
    "version": 3
   },
   "file_extension": ".py",
   "mimetype": "text/x-python",
   "name": "python",
   "nbconvert_exporter": "python",
   "pygments_lexer": "ipython3",
   "version": "3.5.5"
  }
 },
 "nbformat": 4,
 "nbformat_minor": 4
}
