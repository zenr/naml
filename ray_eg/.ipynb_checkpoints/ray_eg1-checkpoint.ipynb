{
 "cells": [
  {
   "cell_type": "code",
   "execution_count": 10,
   "metadata": {},
   "outputs": [],
   "source": [
    "import numpy as np\n",
    "import torch\n",
    "import torch.optim as optim\n",
    "from torchvision import datasets\n",
    "\n",
    "from ray import tune\n",
    "from ray.tune import track\n",
    "from ray.tune.schedulers import ASHAScheduler\n",
    "from ray.tune.examples.mnist_pytorch import get_data_loaders, ConvNet, train, test"
   ]
  },
  {
   "cell_type": "code",
   "execution_count": 17,
   "metadata": {},
   "outputs": [],
   "source": [
    "def train_mnist(config):\n",
    "    train_loader, test_loader = get_data_loaders()\n",
    "    print(train_loader)\n",
    "    model = ConvNet()\n",
    "    print(model.parameters(), model)\n",
    "    optimizer = optim.SGD(model.parameters(), lr=config[\"lr\"])\n",
    "    for i in range(10):\n",
    "        train(model, optimizer, train_loader)\n",
    "        acc = test(model, test_loader)\n",
    "        tune.track.log(mean_accuracy=acc)\n"
   ]
  },
  {
   "cell_type": "code",
   "execution_count": null,
   "metadata": {},
   "outputs": [],
   "source": []
  },
  {
   "cell_type": "code",
   "execution_count": 18,
   "metadata": {
    "scrolled": false
   },
   "outputs": [
    {
     "data": {
      "text/html": [
       "== Status ==<br>Memory usage on this node: 9.2/16.0 GiB<br>Using FIFO scheduling algorithm.<br>Resources requested: 1/4 CPUs, 0/0 GPUs, 0.0/4.39 GiB heap, 0.0/1.51 GiB objects<br>Result logdir: /Users/chityala/ray_results/train_mnist<br>Number of trials: 3 (2 PENDING, 1 RUNNING)<br><table>\n",
       "<thead>\n",
       "<tr><th>Trial name       </th><th>status  </th><th>loc  </th><th style=\"text-align: right;\">  lr</th></tr>\n",
       "</thead>\n",
       "<tbody>\n",
       "<tr><td>train_mnist_00000</td><td>RUNNING </td><td>     </td><td style=\"text-align: right;\">0.01</td></tr>\n",
       "<tr><td>train_mnist_00001</td><td>PENDING </td><td>     </td><td style=\"text-align: right;\">0.1 </td></tr>\n",
       "<tr><td>train_mnist_00002</td><td>PENDING </td><td>     </td><td style=\"text-align: right;\">0.3 </td></tr>\n",
       "</tbody>\n",
       "</table><br><br>"
      ],
      "text/plain": [
       "<IPython.core.display.HTML object>"
      ]
     },
     "metadata": {},
     "output_type": "display_data"
    },
    {
     "name": "stdout",
     "output_type": "stream",
     "text": [
      "\u001b[2m\u001b[36m(pid=19220)\u001b[0m 2020-06-22 17:17:08,837\tINFO trainable.py:217 -- Getting current IP.\n",
      "\u001b[2m\u001b[36m(pid=19220)\u001b[0m <torch.utils.data.dataloader.DataLoader object at 0x7fc68fc433c8>\n",
      "\u001b[2m\u001b[36m(pid=19220)\u001b[0m <generator object Module.parameters at 0x7fc68fc335c8> ConvNet(\n",
      "\u001b[2m\u001b[36m(pid=19220)\u001b[0m   (conv1): Conv2d(1, 3, kernel_size=(3, 3), stride=(1, 1))\n",
      "\u001b[2m\u001b[36m(pid=19220)\u001b[0m   (fc): Linear(in_features=192, out_features=10, bias=True)\n",
      "\u001b[2m\u001b[36m(pid=19220)\u001b[0m )\n",
      "\u001b[2m\u001b[36m(pid=19218)\u001b[0m 2020-06-22 17:17:09,509\tINFO trainable.py:217 -- Getting current IP.\n",
      "Result for train_mnist_00000:\n",
      "  date: 2020-06-22_17-17-09\n",
      "  done: false\n",
      "  experiment_id: 525127be7dbf443382c032938a096105\n",
      "  experiment_tag: 0_lr=0.01\n",
      "  hostname: Ravis-MacBook-Pro.local\n",
      "  iterations_since_restore: 1\n",
      "  mean_accuracy: 0.159375\n",
      "  node_ip: 10.9.12.130\n",
      "  pid: 19220\n",
      "  time_since_restore: 0.5281491279602051\n",
      "  time_this_iter_s: 0.5281491279602051\n",
      "  time_total_s: 0.5281491279602051\n",
      "  timestamp: 1592871429\n",
      "  timesteps_since_restore: 0\n",
      "  training_iteration: 0\n",
      "  trial_id: '00000'\n",
      "  \n",
      "\u001b[2m\u001b[36m(pid=19218)\u001b[0m <torch.utils.data.dataloader.DataLoader object at 0x7fd1f337f390>\n",
      "\u001b[2m\u001b[36m(pid=19218)\u001b[0m <generator object Module.parameters at 0x7fd1f33705c8> ConvNet(\n",
      "\u001b[2m\u001b[36m(pid=19218)\u001b[0m   (conv1): Conv2d(1, 3, kernel_size=(3, 3), stride=(1, 1))\n",
      "\u001b[2m\u001b[36m(pid=19218)\u001b[0m   (fc): Linear(in_features=192, out_features=10, bias=True)\n",
      "\u001b[2m\u001b[36m(pid=19218)\u001b[0m )\n",
      "Result for train_mnist_00001:\n",
      "  date: 2020-06-22_17-17-10\n",
      "  done: false\n",
      "  experiment_id: e520d994287b4fec87a315061852c6ca\n",
      "  experiment_tag: 1_lr=0.1\n",
      "  hostname: Ravis-MacBook-Pro.local\n",
      "  iterations_since_restore: 1\n",
      "  mean_accuracy: 0.446875\n",
      "  node_ip: 10.9.12.130\n",
      "  pid: 19218\n",
      "  time_since_restore: 0.4003169536590576\n",
      "  time_this_iter_s: 0.4003169536590576\n",
      "  time_total_s: 0.4003169536590576\n",
      "  timestamp: 1592871430\n",
      "  timesteps_since_restore: 0\n",
      "  training_iteration: 0\n",
      "  trial_id: '00001'\n",
      "  \n",
      "\u001b[2m\u001b[36m(pid=19219)\u001b[0m 2020-06-22 17:17:10,138\tINFO trainable.py:217 -- Getting current IP.\n",
      "\u001b[2m\u001b[36m(pid=19219)\u001b[0m <torch.utils.data.dataloader.DataLoader object at 0x7fd3e54002b0>\n",
      "\u001b[2m\u001b[36m(pid=19219)\u001b[0m <generator object Module.parameters at 0x7fd3e53f15c8> ConvNet(\n",
      "\u001b[2m\u001b[36m(pid=19219)\u001b[0m   (conv1): Conv2d(1, 3, kernel_size=(3, 3), stride=(1, 1))\n",
      "\u001b[2m\u001b[36m(pid=19219)\u001b[0m   (fc): Linear(in_features=192, out_features=10, bias=True)\n",
      "\u001b[2m\u001b[36m(pid=19219)\u001b[0m )\n",
      "Result for train_mnist_00002:\n",
      "  date: 2020-06-22_17-17-10\n",
      "  done: false\n",
      "  experiment_id: a239731db39a486c8f7ca05207aef46c\n",
      "  experiment_tag: 2_lr=0.3\n",
      "  hostname: Ravis-MacBook-Pro.local\n",
      "  iterations_since_restore: 1\n",
      "  mean_accuracy: 0.49375\n",
      "  node_ip: 10.9.12.130\n",
      "  pid: 19219\n",
      "  time_since_restore: 0.43717288970947266\n",
      "  time_this_iter_s: 0.43717288970947266\n",
      "  time_total_s: 0.43717288970947266\n",
      "  timestamp: 1592871430\n",
      "  timesteps_since_restore: 0\n",
      "  training_iteration: 0\n",
      "  trial_id: '00002'\n",
      "  \n"
     ]
    },
    {
     "data": {
      "text/html": [
       "== Status ==<br>Memory usage on this node: 9.4/16.0 GiB<br>Using FIFO scheduling algorithm.<br>Resources requested: 3/4 CPUs, 0/0 GPUs, 0.0/4.39 GiB heap, 0.0/1.51 GiB objects<br>Result logdir: /Users/chityala/ray_results/train_mnist<br>Number of trials: 3 (3 RUNNING)<br><table>\n",
       "<thead>\n",
       "<tr><th>Trial name       </th><th>status  </th><th>loc              </th><th style=\"text-align: right;\">  lr</th><th style=\"text-align: right;\">     acc</th><th style=\"text-align: right;\">  total time (s)</th><th style=\"text-align: right;\">  iter</th></tr>\n",
       "</thead>\n",
       "<tbody>\n",
       "<tr><td>train_mnist_00000</td><td>RUNNING </td><td>10.9.12.130:19220</td><td style=\"text-align: right;\">0.01</td><td style=\"text-align: right;\">0.578125</td><td style=\"text-align: right;\">         2.96579</td><td style=\"text-align: right;\">     5</td></tr>\n",
       "<tr><td>train_mnist_00001</td><td>RUNNING </td><td>10.9.12.130:19218</td><td style=\"text-align: right;\">0.1 </td><td style=\"text-align: right;\">0.7     </td><td style=\"text-align: right;\">         1.26454</td><td style=\"text-align: right;\">     2</td></tr>\n",
       "<tr><td>train_mnist_00002</td><td>RUNNING </td><td>10.9.12.130:19219</td><td style=\"text-align: right;\">0.3 </td><td style=\"text-align: right;\">0.628125</td><td style=\"text-align: right;\">         1.44808</td><td style=\"text-align: right;\">     2</td></tr>\n",
       "</tbody>\n",
       "</table><br><br>"
      ],
      "text/plain": [
       "<IPython.core.display.HTML object>"
      ]
     },
     "metadata": {},
     "output_type": "display_data"
    },
    {
     "name": "stdout",
     "output_type": "stream",
     "text": [
      "Result for train_mnist_00001:\n",
      "  date: 2020-06-22_17-17-15\n",
      "  done: false\n",
      "  experiment_id: e520d994287b4fec87a315061852c6ca\n",
      "  experiment_tag: 1_lr=0.1\n",
      "  hostname: Ravis-MacBook-Pro.local\n",
      "  iterations_since_restore: 9\n",
      "  mean_accuracy: 0.915625\n",
      "  node_ip: 10.9.12.130\n",
      "  pid: 19218\n",
      "  time_since_restore: 5.47992205619812\n",
      "  time_this_iter_s: 0.5470671653747559\n",
      "  time_total_s: 5.47992205619812\n",
      "  timestamp: 1592871435\n",
      "  timesteps_since_restore: 0\n",
      "  training_iteration: 8\n",
      "  trial_id: '00001'\n",
      "  \n",
      "Result for train_mnist_00002:\n",
      "  date: 2020-06-22_17-17-16\n",
      "  done: false\n",
      "  experiment_id: a239731db39a486c8f7ca05207aef46c\n",
      "  experiment_tag: 2_lr=0.3\n",
      "  hostname: Ravis-MacBook-Pro.local\n",
      "  iterations_since_restore: 10\n",
      "  mean_accuracy: 0.91875\n",
      "  node_ip: 10.9.12.130\n",
      "  pid: 19219\n",
      "  time_since_restore: 5.6572489738464355\n",
      "  time_this_iter_s: 0.3730130195617676\n",
      "  time_total_s: 5.6572489738464355\n",
      "  timestamp: 1592871436\n",
      "  timesteps_since_restore: 0\n",
      "  training_iteration: 9\n",
      "  trial_id: '00002'\n",
      "  \n"
     ]
    },
    {
     "data": {
      "text/html": [
       "== Status ==<br>Memory usage on this node: 9.3/16.0 GiB<br>Using FIFO scheduling algorithm.<br>Resources requested: 0/4 CPUs, 0/0 GPUs, 0.0/4.39 GiB heap, 0.0/1.51 GiB objects<br>Result logdir: /Users/chityala/ray_results/train_mnist<br>Number of trials: 3 (3 TERMINATED)<br><table>\n",
       "<thead>\n",
       "<tr><th>Trial name       </th><th>status    </th><th>loc  </th><th style=\"text-align: right;\">  lr</th><th style=\"text-align: right;\">     acc</th><th style=\"text-align: right;\">  total time (s)</th><th style=\"text-align: right;\">  iter</th></tr>\n",
       "</thead>\n",
       "<tbody>\n",
       "<tr><td>train_mnist_00000</td><td>TERMINATED</td><td>     </td><td style=\"text-align: right;\">0.01</td><td style=\"text-align: right;\">0.690625</td><td style=\"text-align: right;\">         5.17549</td><td style=\"text-align: right;\">     9</td></tr>\n",
       "<tr><td>train_mnist_00001</td><td>TERMINATED</td><td>     </td><td style=\"text-align: right;\">0.1 </td><td style=\"text-align: right;\">0.871875</td><td style=\"text-align: right;\">         6.09064</td><td style=\"text-align: right;\">     9</td></tr>\n",
       "<tr><td>train_mnist_00002</td><td>TERMINATED</td><td>     </td><td style=\"text-align: right;\">0.3 </td><td style=\"text-align: right;\">0.91875 </td><td style=\"text-align: right;\">         5.65725</td><td style=\"text-align: right;\">     9</td></tr>\n",
       "</tbody>\n",
       "</table><br><br>"
      ],
      "text/plain": [
       "<IPython.core.display.HTML object>"
      ]
     },
     "metadata": {},
     "output_type": "display_data"
    },
    {
     "name": "stdout",
     "output_type": "stream",
     "text": [
      "Best config:  {'lr': 0.3}\n"
     ]
    }
   ],
   "source": [
    "analysis = tune.run(\n",
    "    train_mnist, config={\"lr\": tune.grid_search([0.01, 0.1, 0.3]),\n",
    "                        \"kernel_size\": tune.grid_search([(3, 3), (5, 5)])})\n",
    "\n",
    "print(\"Best config: \", analysis.get_best_config(metric=\"mean_accuracy\"))\n",
    "\n",
    "# Get a dataframe for analyzing trial results.\n",
    "df = analysis.dataframe()"
   ]
  },
  {
   "cell_type": "code",
   "execution_count": 16,
   "metadata": {},
   "outputs": [
    {
     "data": {
      "text/plain": [
       "[<matplotlib.axes._subplots.AxesSubplot at 0x7fe8fc1e97b8>,\n",
       " <matplotlib.axes._subplots.AxesSubplot at 0x7fe8fc1e97b8>,\n",
       " <matplotlib.axes._subplots.AxesSubplot at 0x7fe8fc1e97b8>]"
      ]
     },
     "execution_count": 16,
     "metadata": {},
     "output_type": "execute_result"
    }
   ],
   "source": [
    "dfs = analysis.trial_dataframes\n",
    "[d.mean_accuracy.plot() for d in dfs.values()]"
   ]
  },
  {
   "cell_type": "code",
   "execution_count": null,
   "metadata": {},
   "outputs": [],
   "source": []
  }
 ],
 "metadata": {
  "kernelspec": {
   "display_name": "Python 3",
   "language": "python",
   "name": "python3"
  },
  "language_info": {
   "codemirror_mode": {
    "name": "ipython",
    "version": 3
   },
   "file_extension": ".py",
   "mimetype": "text/x-python",
   "name": "python",
   "nbconvert_exporter": "python",
   "pygments_lexer": "ipython3",
   "version": "3.5.5"
  }
 },
 "nbformat": 4,
 "nbformat_minor": 4
}
