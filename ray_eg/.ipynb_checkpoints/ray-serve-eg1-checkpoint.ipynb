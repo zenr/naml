{
 "cells": [
  {
   "cell_type": "code",
   "execution_count": null,
   "metadata": {},
   "outputs": [],
   "source": [
    "from ray import serve\n",
    "\n",
    "import os\n",
    "import numpy as np\n",
    "import requests"
   ]
  },
  {
   "cell_type": "code",
   "execution_count": null,
   "metadata": {},
   "outputs": [],
   "source": [
    "TRAINED_MODEL_PATH = \"/tmp/mnist_model.h5\"\n",
    "\n",
    "\n",
    "def train_and_save_model():\n",
    "    import tensorflow as tf\n",
    "    # Load mnist dataset\n",
    "    mnist = tf.keras.datasets.mnist\n",
    "    (x_train, y_train), (x_test, y_test) = mnist.load_data()\n",
    "    x_train, x_test = x_train / 255.0, x_test / 255.0\n",
    "\n",
    "    # Train a simple neural net model\n",
    "    model = tf.keras.models.Sequential([\n",
    "        tf.keras.layers.Flatten(input_shape=(28, 28)),\n",
    "        tf.keras.layers.Dense(128, activation=\"relu\"),\n",
    "        tf.keras.layers.Dropout(0.2),\n",
    "        tf.keras.layers.Dense(10)\n",
    "    ])\n",
    "    loss_fn = tf.keras.losses.SparseCategoricalCrossentropy(from_logits=True)\n",
    "    model.compile(optimizer=\"adam\", loss=loss_fn, metrics=[\"accuracy\"])\n",
    "    model.fit(x_train, y_train, epochs=1)\n",
    "\n",
    "    model.evaluate(x_test, y_test, verbose=2)\n",
    "    model.summary()\n",
    "\n",
    "    # Save the model in h5 format in local file system\n",
    "    model.save(TRAINED_MODEL_PATH)\n",
    "\n",
    "\n",
    "if not os.path.exists(TRAINED_MODEL_PATH):\n",
    "    train_and_save_model()"
   ]
  },
  {
   "cell_type": "code",
   "execution_count": null,
   "metadata": {},
   "outputs": [],
   "source": [
    "class TFMnistModel:\n",
    "    def __init__(self, model_path):\n",
    "        import tensorflow as tf\n",
    "        self.model_path = model_path\n",
    "        self.model = tf.keras.models.load_model(model_path)\n",
    "\n",
    "    def __call__(self, flask_request):\n",
    "        # Step 1: transform HTTP request -> tensorflow input\n",
    "        # Here we define the request schema to be a json array.\n",
    "        input_array = np.array(flask_request.json[\"array\"])\n",
    "        reshaped_array = input_array.reshape((1, 28, 28))\n",
    "\n",
    "        # Step 2: tensorflow input -> tensorflow output\n",
    "        prediction = self.model(reshaped_array)\n",
    "\n",
    "        # Step 3: tensorflow output -> web output\n",
    "        return {\n",
    "            \"prediction\": prediction.numpy().tolist(),\n",
    "            \"file\": self.model_path\n",
    "        }\n",
    "\n"
   ]
  },
  {
   "cell_type": "code",
   "execution_count": 9,
   "metadata": {},
   "outputs": [],
   "source": [
    "serve.init()\n",
    "serve.create_backend(\"tf:v1\", TFMnistModel, \"/tmp/mnist_model.h5\")\n",
    "serve.create_endpoint(\"tf_classifier\", route=\"/mnist\")"
   ]
  },
  {
   "cell_type": "code",
   "execution_count": null,
   "metadata": {},
   "outputs": [],
   "source": [
    "#resp = requests.get(\n",
    "#    \"http://localhost:8000/mnist\",\n",
    "#    json={\"array\": np.random.randn(28 * 28).tolist()})\n",
    "#print(resp.json())\n",
    "# {\n",
    "#  \"prediction\": [[-1.504277229309082, ..., -6.793371200561523]],\n",
    "#  \"file\": \"/tmp/mnist_model.h5\"\n",
    "# }"
   ]
  },
  {
   "cell_type": "code",
   "execution_count": null,
   "metadata": {},
   "outputs": [],
   "source": []
  }
 ],
 "metadata": {
  "kernelspec": {
   "display_name": "Python 3",
   "language": "python",
   "name": "python3"
  },
  "language_info": {
   "codemirror_mode": {
    "name": "ipython",
    "version": 3
   },
   "file_extension": ".py",
   "mimetype": "text/x-python",
   "name": "python",
   "nbconvert_exporter": "python",
   "pygments_lexer": "ipython3",
   "version": "3.7.6"
  }
 },
 "nbformat": 4,
 "nbformat_minor": 4
}
